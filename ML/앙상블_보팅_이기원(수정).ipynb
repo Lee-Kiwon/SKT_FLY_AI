{
  "nbformat": 4,
  "nbformat_minor": 0,
  "metadata": {
    "colab": {
      "provenance": []
    },
    "kernelspec": {
      "name": "python3",
      "display_name": "Python 3"
    },
    "language_info": {
      "name": "python"
    }
  },
  "cells": [
    {
      "cell_type": "code",
      "execution_count": null,
      "metadata": {
        "id": "uyFR2tHR4N37"
      },
      "outputs": [],
      "source": [
        "# KNN, 과 로지스틱 회귀로 보팅을 만들어 비교, 유방암 데이터"
      ]
    },
    {
      "cell_type": "code",
      "source": [
        "#라입러리\n",
        "\n",
        "import pandas as pd\n",
        "from sklearn.ensemble import VotingClassifier\n",
        "from sklearn.linear_model import LogisticRegression\n",
        "from sklearn.neighbors import KNeighborsClassifier\n",
        "from sklearn.datasets import load_breast_cancer\n",
        "from sklearn.model_selection import train_test_split\n",
        "from sklearn.metrics import accuracy_score"
      ],
      "metadata": {
        "id": "oOLuUp0J4WbE"
      },
      "execution_count": 1,
      "outputs": []
    },
    {
      "cell_type": "code",
      "source": [
        "# 모델생성\n",
        "# 로지스틱 회귀 모델을 만들고 KNN모델을 만들고 두 모델로 보팅 모델\n",
        "# estimators는 리스트 안에 꼭 튜플 형식으로 집어넣어 줘야 한다. voting 방식은 하드가 아니라 소프트로 지정해준다. 기본값은 하드\n",
        "cancer = load_breast_cancer()\n",
        "\n",
        "df = pd.DataFrame(cancer.data, columns=cancer.feature_names)\n",
        "\n",
        "lr_clf = LogisticRegression(solver=\"liblinear\")\n",
        "knn_clf = KNeighborsClassifier(n_neighbors=8)\n",
        "vo_clf = VotingClassifier(estimators=[(\"LR\", lr_clf), (\"KNN\", knn_clf)], voting=\"soft\")"
      ],
      "metadata": {
        "id": "ew4QSy_64Wcw"
      },
      "execution_count": 2,
      "outputs": []
    },
    {
      "cell_type": "code",
      "source": [
        "# 반복하여 정확도를 보면 각각의 알고리즘일 때 보다 보팅 형식으로 묶어 사용했을 때 정확도 상승\n",
        "\n",
        "X_train, X_test, y_train, y_test = train_test_split(cancer.data, cancer.target, test_size=0.2, random_state=999)\n",
        "\n",
        "classifiers = [vo_clf, lr_clf, knn_clf]\n",
        "for classifier in classifiers:\n",
        "    classifier.fit(X_train, y_train)\n",
        "    pred = classifier.predict(X_test)\n",
        "    name = classifier.__class__.__name__\n",
        "    print(f\"{name} 정확도 : {accuracy_score(y_test, pred)}\")\n"
      ],
      "metadata": {
        "colab": {
          "base_uri": "https://localhost:8080/"
        },
        "id": "Y1Y36rGK4WgG",
        "outputId": "9ddd6481-7ddf-4e04-d1b9-e24a42731526"
      },
      "execution_count": 3,
      "outputs": [
        {
          "output_type": "stream",
          "name": "stdout",
          "text": [
            "VotingClassifier 정확도 : 0.9385964912280702\n",
            "LogisticRegression 정확도 : 0.9210526315789473\n",
            "KNeighborsClassifier 정확도 : 0.9122807017543859\n"
          ]
        }
      ]
    },
    {
      "cell_type": "code",
      "source": [],
      "metadata": {
        "id": "KeuzLucSOQ6B"
      },
      "execution_count": null,
      "outputs": []
    },
    {
      "cell_type": "code",
      "source": [],
      "metadata": {
        "id": "rR8lmyW6OQ8f"
      },
      "execution_count": null,
      "outputs": []
    },
    {
      "cell_type": "code",
      "source": [
        "##보스턴 집값 앙상블(Target : CHAS)"
      ],
      "metadata": {
        "id": "Fb5GZbPaORAZ"
      },
      "execution_count": null,
      "outputs": []
    },
    {
      "cell_type": "code",
      "source": [
        "# 앙상블 배깅, 랜덤포레스트"
      ],
      "metadata": {
        "id": "Dy8KNxv54Wmn"
      },
      "execution_count": null,
      "outputs": []
    },
    {
      "cell_type": "code",
      "source": [
        "# 라이브러리\n",
        "\n",
        "from sklearn.datasets import load_breast_cancer\n",
        "from sklearn.ensemble import RandomForestClassifier\n",
        "from sklearn.model_selection import train_test_split\n",
        "import numpy as np\n",
        "from sklearn.model_selection import GridSearchCV"
      ],
      "metadata": {
        "id": "y-BjgpLu4Wp5"
      },
      "execution_count": 4,
      "outputs": []
    },
    {
      "cell_type": "code",
      "source": [
        "# 모델 생성\n",
        "\n",
        "cancer = load_breast_cancer()\n",
        "np.random.seed(9)\n",
        "X_train, X_test, y_train, y_test = train_test_split(cancer.data, cancer.target, stratify=cancer.target)\n",
        "\n",
        "params = {'n_estimators': [1000], 'max_depth': [6, 8, 10, 12,16,20,40], 'min_samples_leaf': [6,8, 12, 18],\n",
        "          'min_samples_split': [6,8, 16, 20]}\n",
        "\n",
        "clf = RandomForestClassifier(n_estimators=100)\n",
        "grid_clf = GridSearchCV(clf, param_grid=params, cv=2, n_jobs=-1)  # -1 은 cpu를 다 쓴다는 의미\n",
        "grid_clf.fit(X_train, y_train)\n",
        "\n",
        "print(f\"최적의 파라미터\\n{grid_clf.best_params_}\")\n",
        "print(f\"최고 예측 정확도: {grid_clf.best_score_}\")"
      ],
      "metadata": {
        "colab": {
          "base_uri": "https://localhost:8080/"
        },
        "id": "3_gxoBXt57QW",
        "outputId": "b439a297-212e-4bb8-f8df-a965f289d5ae"
      },
      "execution_count": 8,
      "outputs": [
        {
          "output_type": "stream",
          "name": "stdout",
          "text": [
            "최적의 파라미터\n",
            "{'max_depth': 10, 'min_samples_leaf': 6, 'min_samples_split': 16, 'n_estimators': 1000}\n",
            "최고 예측 정확도: 0.9553990610328639\n"
          ]
        }
      ]
    },
    {
      "cell_type": "code",
      "source": [
        "from sklearn.tree import DecisionTreeClassifier"
      ],
      "metadata": {
        "id": "hss4fhdoMpEK"
      },
      "execution_count": 12,
      "outputs": []
    },
    {
      "cell_type": "code",
      "source": [
        "df = pd.read_csv(\"/content/sample_data/Boston_house.csv\")\n",
        "\n",
        "lr_clf = LogisticRegression(solver=\"liblinear\")\n",
        "knn_clf = KNeighborsClassifier(n_neighbors=8)\n",
        "dc_clf = DecisionTreeClassifier()\n",
        "\n",
        "vo_clf = VotingClassifier(estimators=[(\"LR\", lr_clf), (\"KNN\", knn_clf),('DT',dc_clf)], voting=\"soft\")"
      ],
      "metadata": {
        "id": "RwMuGfYl57Tf"
      },
      "execution_count": 13,
      "outputs": []
    },
    {
      "cell_type": "code",
      "source": [
        "for column in df.columns:\n",
        "    unique_values = df[column].value_counts()\n",
        "    print(f\"열 '{column}'의 값 종류와 빈도:\")\n",
        "    print(unique_values)\n",
        "    print()"
      ],
      "metadata": {
        "colab": {
          "base_uri": "https://localhost:8080/"
        },
        "id": "97l0HPDYNe-R",
        "outputId": "c8ae55b9-762b-488c-9e52-c4eaf2e0d3d2"
      },
      "execution_count": 19,
      "outputs": [
        {
          "output_type": "stream",
          "name": "stdout",
          "text": [
            "열 'AGE'의 값 종류와 빈도:\n",
            "100.0    43\n",
            "95.4      4\n",
            "96.0      4\n",
            "98.2      4\n",
            "97.9      4\n",
            "         ..\n",
            "58.4      1\n",
            "74.4      1\n",
            "73.4      1\n",
            "33.1      1\n",
            "89.3      1\n",
            "Name: AGE, Length: 356, dtype: int64\n",
            "\n",
            "열 'B'의 값 종류와 빈도:\n",
            "396.90    121\n",
            "393.74      3\n",
            "395.24      3\n",
            "376.14      2\n",
            "394.72      2\n",
            "         ... \n",
            "240.16      1\n",
            "389.61      1\n",
            "374.43      1\n",
            "338.92      1\n",
            "391.99      1\n",
            "Name: B, Length: 357, dtype: int64\n",
            "\n",
            "열 'RM'의 값 종류와 빈도:\n",
            "5.713    3\n",
            "6.167    3\n",
            "6.127    3\n",
            "6.229    3\n",
            "6.405    3\n",
            "        ..\n",
            "5.859    1\n",
            "6.416    1\n",
            "5.572    1\n",
            "5.880    1\n",
            "6.976    1\n",
            "Name: RM, Length: 446, dtype: int64\n",
            "\n",
            "열 'CRIM'의 값 종류와 빈도:\n",
            "0.01501     2\n",
            "14.33370    2\n",
            "0.03466     1\n",
            "0.03113     1\n",
            "0.03049     1\n",
            "           ..\n",
            "1.51902     1\n",
            "1.83377     1\n",
            "1.46336     1\n",
            "1.27346     1\n",
            "0.04741     1\n",
            "Name: CRIM, Length: 504, dtype: int64\n",
            "\n",
            "열 'DIS'의 값 종류와 빈도:\n",
            "3.4952    5\n",
            "5.7209    4\n",
            "5.2873    4\n",
            "6.8147    4\n",
            "5.4007    4\n",
            "         ..\n",
            "2.4220    1\n",
            "2.1620    1\n",
            "2.0407    1\n",
            "1.9709    1\n",
            "2.5050    1\n",
            "Name: DIS, Length: 412, dtype: int64\n",
            "\n",
            "열 'INDUS'의 값 종류와 빈도:\n",
            "18.10    132\n",
            "19.58     30\n",
            "8.14      22\n",
            "6.20      18\n",
            "21.89     15\n",
            "        ... \n",
            "1.21       1\n",
            "1.38       1\n",
            "3.75       1\n",
            "0.46       1\n",
            "2.31       1\n",
            "Name: INDUS, Length: 76, dtype: int64\n",
            "\n",
            "열 'LSTAT'의 값 종류와 빈도:\n",
            "7.79     3\n",
            "14.10    3\n",
            "6.36     3\n",
            "18.13    3\n",
            "8.05     3\n",
            "        ..\n",
            "3.32     1\n",
            "1.92     1\n",
            "1.73     1\n",
            "6.43     1\n",
            "7.88     1\n",
            "Name: LSTAT, Length: 455, dtype: int64\n",
            "\n",
            "열 'NOX'의 값 종류와 빈도:\n",
            "0.538    23\n",
            "0.713    18\n",
            "0.437    17\n",
            "0.871    16\n",
            "0.624    15\n",
            "         ..\n",
            "0.394     1\n",
            "0.518     1\n",
            "0.385     1\n",
            "0.389     1\n",
            "0.435     1\n",
            "Name: NOX, Length: 81, dtype: int64\n",
            "\n",
            "열 'PTRATIO'의 값 종류와 빈도:\n",
            "20.2    140\n",
            "14.7     34\n",
            "21.0     27\n",
            "17.8     23\n",
            "19.2     19\n",
            "17.4     18\n",
            "18.6     17\n",
            "19.1     17\n",
            "18.4     16\n",
            "16.6     16\n",
            "21.2     15\n",
            "15.2     13\n",
            "13.0     12\n",
            "17.9     11\n",
            "20.9     11\n",
            "18.7      9\n",
            "19.6      8\n",
            "19.7      8\n",
            "17.6      7\n",
            "16.4      6\n",
            "16.9      5\n",
            "16.0      5\n",
            "20.1      5\n",
            "18.0      5\n",
            "16.1      5\n",
            "19.0      4\n",
            "18.3      4\n",
            "16.8      4\n",
            "18.2      4\n",
            "14.9      4\n",
            "18.5      4\n",
            "17.0      4\n",
            "18.9      3\n",
            "12.6      3\n",
            "14.8      3\n",
            "15.3      3\n",
            "15.9      2\n",
            "15.6      2\n",
            "18.8      2\n",
            "22.0      2\n",
            "13.6      1\n",
            "15.1      1\n",
            "17.3      1\n",
            "21.1      1\n",
            "14.4      1\n",
            "15.5      1\n",
            "Name: PTRATIO, dtype: int64\n",
            "\n",
            "열 'RAD'의 값 종류와 빈도:\n",
            "24    132\n",
            "5     115\n",
            "4     110\n",
            "3      38\n",
            "6      26\n",
            "2      24\n",
            "8      24\n",
            "1      20\n",
            "7      17\n",
            "Name: RAD, dtype: int64\n",
            "\n",
            "열 'ZN'의 값 종류와 빈도:\n",
            "0.0      372\n",
            "20.0      21\n",
            "80.0      15\n",
            "22.0      10\n",
            "12.5      10\n",
            "25.0      10\n",
            "40.0       7\n",
            "45.0       6\n",
            "30.0       6\n",
            "90.0       5\n",
            "95.0       4\n",
            "60.0       4\n",
            "21.0       4\n",
            "33.0       4\n",
            "55.0       3\n",
            "70.0       3\n",
            "34.0       3\n",
            "52.5       3\n",
            "35.0       3\n",
            "28.0       3\n",
            "75.0       3\n",
            "82.5       2\n",
            "85.0       2\n",
            "17.5       1\n",
            "100.0      1\n",
            "18.0       1\n",
            "Name: ZN, dtype: int64\n",
            "\n",
            "열 'TAX'의 값 종류와 빈도:\n",
            "666    132\n",
            "307     40\n",
            "403     30\n",
            "437     15\n",
            "304     14\n",
            "      ... \n",
            "285      1\n",
            "198      1\n",
            "256      1\n",
            "244      1\n",
            "313      1\n",
            "Name: TAX, Length: 66, dtype: int64\n",
            "\n",
            "열 'CHAS'의 값 종류와 빈도:\n",
            "0    471\n",
            "1     35\n",
            "Name: CHAS, dtype: int64\n",
            "\n",
            "열 'Target'의 값 종류와 빈도:\n",
            "50.0    16\n",
            "25.0     8\n",
            "22.0     7\n",
            "21.7     7\n",
            "23.1     7\n",
            "        ..\n",
            "32.9     1\n",
            "34.6     1\n",
            "30.3     1\n",
            "33.3     1\n",
            "8.1      1\n",
            "Name: Target, Length: 229, dtype: int64\n",
            "\n"
          ]
        }
      ]
    },
    {
      "cell_type": "code",
      "source": [
        "X = df.drop(columns=['CHAS'])\n",
        "y = df[['CHAS']]\n",
        "\n",
        "#df = df.drop(columns=['species'])\n"
      ],
      "metadata": {
        "id": "kkM56YutNv64"
      },
      "execution_count": 21,
      "outputs": []
    },
    {
      "cell_type": "code",
      "source": [
        "y = y.values"
      ],
      "metadata": {
        "id": "XpuMDxrAO4N2"
      },
      "execution_count": 26,
      "outputs": []
    },
    {
      "cell_type": "code",
      "source": [
        "X_train, X_test, y_train, y_test = train_test_split(X, y.ravel(), test_size=0.2, random_state=999)\n",
        "\n",
        "classifiers = [vo_clf, lr_clf, knn_clf,dc_clf]\n",
        "for classifier in classifiers:\n",
        "    classifier.fit(X_train, y_train)\n",
        "    pred = classifier.predict(X_test)\n",
        "    name = classifier.__class__.__name__\n",
        "    print(f\"{name} 정확도 : {accuracy_score(y_test, pred)}\")"
      ],
      "metadata": {
        "id": "b1q38Neb57Wo",
        "colab": {
          "base_uri": "https://localhost:8080/"
        },
        "outputId": "3189db48-0d1e-4a73-d85d-35a4b22ca9f7"
      },
      "execution_count": 30,
      "outputs": [
        {
          "output_type": "stream",
          "name": "stdout",
          "text": [
            "VotingClassifier 정확도 : 0.9313725490196079\n",
            "LogisticRegression 정확도 : 0.9117647058823529\n",
            "KNeighborsClassifier 정확도 : 0.9117647058823529\n",
            "DecisionTreeClassifier 정확도 : 0.9019607843137255\n"
          ]
        }
      ]
    },
    {
      "cell_type": "code",
      "source": [
        "#cancer = load_breast_cancer()\n",
        "#np.random.seed(9)\n",
        "#X_train, X_test, y_train, y_test = train_test_split(cancer.data, cancer.target, stratify=cancer.target)\n",
        "\n",
        "params = {'n_estimators': [100], 'max_depth': [6, 8, 10, 12], 'min_samples_leaf': [6,8, 12, 18,24],\n",
        "          'min_samples_split': [6,8, 16, 20]}\n",
        "\n",
        "clf = RandomForestClassifier(n_estimators=100)\n",
        "grid_clf = GridSearchCV(clf, param_grid=params, cv=2, n_jobs=-1)  # -1 은 cpu를 다 쓴다는 의미\n",
        "grid_clf.fit(X_train, y_train)\n",
        "\n",
        "print(f\"최적의 파라미터\\n{grid_clf.best_params_}\")\n",
        "print(f\"최고 예측 정확도: {grid_clf.best_score_}\")"
      ],
      "metadata": {
        "id": "Qkavnxg_57Zo",
        "colab": {
          "base_uri": "https://localhost:8080/"
        },
        "outputId": "36d52fd4-5dfc-4ec3-a82c-773096cb31a7"
      },
      "execution_count": 33,
      "outputs": [
        {
          "output_type": "stream",
          "name": "stdout",
          "text": [
            "최적의 파라미터\n",
            "{'max_depth': 6, 'min_samples_leaf': 6, 'min_samples_split': 6, 'n_estimators': 100}\n",
            "최고 예측 정확도: 0.9356435643564357\n"
          ]
        }
      ]
    },
    {
      "cell_type": "code",
      "source": [],
      "metadata": {
        "id": "wH6dAdGRNac3"
      },
      "execution_count": null,
      "outputs": []
    }
  ]
}